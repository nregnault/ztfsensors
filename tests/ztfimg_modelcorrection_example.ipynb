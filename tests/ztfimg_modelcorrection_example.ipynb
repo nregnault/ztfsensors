{
 "cells": [
  {
   "cell_type": "code",
   "execution_count": 1,
   "id": "c3cc3fa7-6b78-4a9b-9465-62c4c584b718",
   "metadata": {},
   "outputs": [],
   "source": [
    "import ztfsensors"
   ]
  },
  {
   "cell_type": "code",
   "execution_count": 2,
   "id": "51697b42-18eb-48ac-a86b-0ec374cae560",
   "metadata": {},
   "outputs": [],
   "source": [
    "from ztfsensors import pocket, correct"
   ]
  },
  {
   "cell_type": "code",
   "execution_count": 3,
   "id": "0561ba6e-f219-4a5e-8a13-515b38547780",
   "metadata": {},
   "outputs": [],
   "source": [
    "# Access the raw quadrant    \n",
    "import ztfimg\n",
    "rawimg = ztfimg.RawCCD.from_filename(\"ztf_20200401152477_000517_zg_c06_o.fits.fz\", as_path=False) # providing the exact path\n",
    "quad = rawimg.get_quadrant(3)"
   ]
  },
  {
   "cell_type": "code",
   "execution_count": 6,
   "id": "9a8a6d92-6be4-42c9-bc68-b239dee3f957",
   "metadata": {},
   "outputs": [],
   "source": [
    "pixel = quad.get_data_and_overscan()"
   ]
  },
  {
   "cell_type": "code",
   "execution_count": 7,
   "id": "62f2c218-0263-44df-8fe1-285ba72ea92b",
   "metadata": {},
   "outputs": [
    {
     "data": {
      "text/plain": [
       "(3080, 3102)"
      ]
     },
     "execution_count": 7,
     "metadata": {},
     "output_type": "execute_result"
    }
   ],
   "source": [
    "pixels.shape"
   ]
  },
  {
   "cell_type": "code",
   "execution_count": 11,
   "id": "b869fa10-aa13-442c-a7ba-26c2a229d148",
   "metadata": {},
   "outputs": [],
   "source": [
    "config = pocket.get_config(quad.ccdid, quad.qid).iloc[0]\n",
    "model = pocket.PocketModel(**config)"
   ]
  },
  {
   "cell_type": "code",
   "execution_count": 13,
   "id": "def54aaa-1807-4b80-b029-e186dbc01741",
   "metadata": {},
   "outputs": [],
   "source": [
    "corrected_pixels_and_overscan = correct.correct_pixels(model, pixels, n_overscan=30)"
   ]
  },
  {
   "cell_type": "code",
   "execution_count": 15,
   "id": "1ff5c96b-f4cb-483a-b858-84b12fead38c",
   "metadata": {},
   "outputs": [
    {
     "data": {
      "text/plain": [
       "(3080, 3102)"
      ]
     },
     "execution_count": 15,
     "metadata": {},
     "output_type": "execute_result"
    }
   ],
   "source": [
    "corrected_pixels.shape"
   ]
  },
  {
   "cell_type": "code",
   "execution_count": null,
   "id": "65ea85ab-76e2-4f00-8d6d-3926ef004a61",
   "metadata": {},
   "outputs": [],
   "source": []
  }
 ],
 "metadata": {
  "kernelspec": {
   "display_name": "Python 3 (ipykernel)",
   "language": "python",
   "name": "python3"
  },
  "language_info": {
   "codemirror_mode": {
    "name": "ipython",
    "version": 3
   },
   "file_extension": ".py",
   "mimetype": "text/x-python",
   "name": "python",
   "nbconvert_exporter": "python",
   "pygments_lexer": "ipython3",
   "version": "3.10.12"
  }
 },
 "nbformat": 4,
 "nbformat_minor": 5
}
